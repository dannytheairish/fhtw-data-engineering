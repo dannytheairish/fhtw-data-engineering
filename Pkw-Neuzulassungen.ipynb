{
 "cells": [
  {
   "cell_type": "code",
   "execution_count": null,
   "metadata": {},
   "outputs": [],
   "source": [
    "import pandas as pd\n",
    "import numpy as np\n",
    "import seaborn as sns\n",
    "import matplotlib.pyplot as plt\n",
    "import plotly.express as px"
   ]
  },
  {
   "cell_type": "code",
   "execution_count": null,
   "metadata": {},
   "outputs": [],
   "source": [
    "# Primary Color Palette\n",
    "primary_color = \"#2B2D42\"\n",
    "secondary_color = \"#8D99AE\"\n",
    "accent_color = \"#EF233C\"\n",
    "background_color = \"#EDF2F4\"\n",
    "text_color = \"#333333\"\n",
    "\n",
    "# Additional Colors\n",
    "highlight_color = \"#D90429\"\n",
    "info_color = \"#3A86FF\"\n",
    "success_color = \"#06D6A0\"\n",
    "warning_color = \"#FFD166\"\n",
    "error_color = \"#FF4B4B\"\n",
    "\n",
    "# Custom Chart Colors\n",
    "chart_color_1 = \"#264653\" \n",
    "chart_color_2 = \"#2A9D8F\"\n",
    "chart_color_3 = \"#E9C46A\"\n",
    "chart_color_4 = \"#F4A261\"\n",
    "chart_color_5 = \"#E76F51\" "
   ]
  },
  {
   "cell_type": "code",
   "execution_count": null,
   "metadata": {},
   "outputs": [],
   "source": []
  }
 ],
 "metadata": {
  "language_info": {
   "name": "python"
  }
 },
 "nbformat": 4,
 "nbformat_minor": 2
}
