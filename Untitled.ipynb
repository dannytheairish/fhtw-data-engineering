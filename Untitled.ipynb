{
 "cells": [
  {
   "cell_type": "markdown",
   "id": "21888e86-7ba6-48f6-8974-aca445c052b7",
   "metadata": {},
   "source": [
    "## 4. Methodology and Steps:\n",
    "\n",
    "To test this hypothesis, the following steps will be taken:\n",
    "\n",
    "### Data Filtering and Preparation:\n",
    "- Filter the dataset to extract data relevant to Volkswagen’s sales from 2000 to 2023.\n",
    "- Aggregate the data by year to observe yearly trends.\n",
    "- Compare Volkswagen's sales trends with those of other car manufacturers before and after 2015 (the year of the emissions scandal).\n",
    "\n",
    "### Preliminary Visualizations:\n",
    "- Create a time series plot to visualize Volkswagen’s annual sales from 2000 to 2023.\n",
    "- Overlay this with other manufacturers' sales trends to compare the patterns.\n",
    "- Highlight the period around 2015 to identify any potential disruptions or deviations in the sales trend.\n",
    "\n",
    "### Statistical Analysis:\n",
    "- Conduct a statistical test (e.g., t-test or Mann-Whitney U test) to check for significant differences in Volkswagen's sales before and after 2015.\n",
    "- Compare Volkswagen’s performance against other top car manufacturers to see if the change in sales differs from the market-wide trend.\n",
    "\n",
    "### Control Group:\n",
    "- As a control, analyze sales trends for another car brand unaffected by the emissions scandal (e.g., a Japanese manufacturer) to determine if the 2015-2023 period impacted the broader market.\n",
    "\n",
    "## 5. Results and Discussion:\n",
    "\n",
    "### Visualization Findings:\n",
    "- Provide insights from the time series plots. Did VW's sales drop in 2015? How does this compare to other brands?\n",
    "\n",
    "### Statistical Test Results:\n",
    "- Summarize the results of your hypothesis test, stating whether or not the emissions scandal had a statistically significant impact on VW sales.\n",
    "\n",
    "### Market Comparison:\n",
    "- Discuss how VW's sales trends compare with other manufacturers before and after 2015. Did VW recover? Were other brands impacted similarly?\n"
   ]
  },
  {
   "cell_type": "code",
   "execution_count": null,
   "id": "2401af70-dd85-4cfb-ab98-a0a15206782e",
   "metadata": {},
   "outputs": [],
   "source": [
    "# Custom Chart Colors\n",
    "chart_color_1 = \"#264653\" \n",
    "chart_color_2 = \"#2A9D8F\"\n",
    "chart_color_3 = \"#E9C46A\"\n",
    "chart_color_4 = \"#F4A261\"\n",
    "chart_color_5 = \"#E76F51\" "
   ]
  }
 ],
 "metadata": {
  "kernelspec": {
   "display_name": "Python 3 (ipykernel)",
   "language": "python",
   "name": "python3"
  },
  "language_info": {
   "codemirror_mode": {
    "name": "ipython",
    "version": 3
   },
   "file_extension": ".py",
   "mimetype": "text/x-python",
   "name": "python",
   "nbconvert_exporter": "python",
   "pygments_lexer": "ipython3",
   "version": "3.12.2"
  }
 },
 "nbformat": 4,
 "nbformat_minor": 5
}
